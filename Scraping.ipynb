{
 "cells": [
  {
   "cell_type": "code",
   "execution_count": null,
   "id": "e6c44a87-9150-4dc6-841d-57d984eff50d",
   "metadata": {},
   "outputs": [],
   "source": [
    "import time\n",
    "import requests\n",
    "import os\n",
    "import codecs\n",
    "from tqdm import tqdm\n",
    "from bs4 import BeautifulSoup\n",
    "from selenium import webdriver\n",
    "from selenium.webdriver.common.by import By\n",
    "from selenium.webdriver.support.ui import WebDriverWait\n",
    "from selenium.webdriver.support import expected_conditions as EC\n",
    "from selenium.webdriver.chrome.service import Service as ChromeService\n",
    "from webdriver_manager.chrome import ChromeDriverManager"
   ]
  },
  {
   "cell_type": "code",
   "execution_count": null,
   "id": "6a3e582c-a358-4a5c-931c-10584abab60a",
   "metadata": {},
   "outputs": [],
   "source": [
    "course = 'https://learn.microsoft.com/de-de/credentials/certifications/power-bi-data-analyst-associate/'"
   ]
  },
  {
   "cell_type": "code",
   "execution_count": null,
   "id": "d5478010-d795-4411-99a9-f16fb1890f5f",
   "metadata": {},
   "outputs": [],
   "source": [
    "driver = webdriver.Chrome(service=ChromeService(ChromeDriverManager().install()))"
   ]
  },
  {
   "cell_type": "markdown",
   "id": "81a1be2f-4371-4449-b2b0-68dfec400da9",
   "metadata": {},
   "source": [
    "### Sections"
   ]
  },
  {
   "cell_type": "code",
   "execution_count": null,
   "id": "03e0b58e-841e-4d0a-bae9-02f0380199c8",
   "metadata": {},
   "outputs": [],
   "source": [
    "driver.get(course)\n",
    "wait = WebDriverWait(driver, 10)\n",
    "element = wait.until(EC.presence_of_element_located((By.ID, \"learn-bizapps.get-started-data-analytics_title\")))\n",
    "html = driver.page_source"
   ]
  },
  {
   "cell_type": "code",
   "execution_count": null,
   "id": "5d79b667-bd8d-4707-ac8b-0df9a4f99c72",
   "metadata": {},
   "outputs": [],
   "source": [
    "soup = BeautifulSoup(html, 'html.parser')\n",
    "sections = soup.find_all('div', class_='card-template')\n",
    "sections = [element.a.get('href') for element in sections]\n",
    "sections = ['https://learn.microsoft.com/' + element for element in sections]"
   ]
  },
  {
   "cell_type": "markdown",
   "id": "17d1a1c6-b77b-44de-b0a8-1e69bbc3cad1",
   "metadata": {},
   "source": [
    "### Modules"
   ]
  },
  {
   "cell_type": "code",
   "execution_count": null,
   "id": "09a98168-3581-4c00-aa5d-4ae7b80f0721",
   "metadata": {},
   "outputs": [],
   "source": [
    "modules = []\n",
    "\n",
    "for i, section in enumerate(sections):\n",
    "    driver.get(section)\n",
    "    time.sleep(2)\n",
    "    html = driver.page_source\n",
    "\n",
    "    searched_class = 'display-block text-decoration-none font-weight-semibold font-size-h6 margin-none has-content-margin-right-xxl-tablet'\n",
    "    \n",
    "    if i == 0:\n",
    "        searched_class = 'display-block text-decoration-none'\n",
    "    \n",
    "    soup = BeautifulSoup(html, 'html.parser')\n",
    "    section_modules = soup.find_all('a', class_=searched_class)\n",
    "    section_modules = [module.get('href') for module in section_modules]\n",
    "    section_modules = ['https://learn.microsoft.com/de-de/training/modules/' + module for module in section_modules]\n",
    "    section_modules = [module.replace('/../../modules/', '/') for module in section_modules]\n",
    "\n",
    "    for module in section_modules:\n",
    "        modules.append(module)"
   ]
  },
  {
   "cell_type": "code",
   "execution_count": null,
   "id": "946d7e50-15d1-4352-b76f-434b849c9a52",
   "metadata": {},
   "outputs": [],
   "source": [
    "modules = [module.replace('//de-de/training/modules', '') for module in modules]"
   ]
  },
  {
   "cell_type": "markdown",
   "id": "b3bedd3e-7ede-4a0f-9fc2-419b88bdd2da",
   "metadata": {},
   "source": [
    "### Pages"
   ]
  },
  {
   "cell_type": "code",
   "execution_count": null,
   "id": "fb953a2c-d493-402c-8623-d7f692b63e73",
   "metadata": {},
   "outputs": [],
   "source": [
    "pages = []\n",
    "\n",
    "for module in modules:\n",
    "    \n",
    "    driver.get(module)\n",
    "    time.sleep(2)\n",
    "    html = driver.page_source\n",
    "\n",
    "    soup = BeautifulSoup(html, 'html.parser')\n",
    "    module_pages = soup.find_all('a', class_='unit-title display-block font-size-md has-line-height-reset')\n",
    "    module_pages = [page.get('href') for page in module_pages]\n",
    "    module_pages = [module + page for page in module_pages]\n",
    "\n",
    "    for page in module_pages:\n",
    "        pages.append(page)"
   ]
  },
  {
   "cell_type": "code",
   "execution_count": null,
   "id": "7dba36af-409b-46f8-9df5-1d843908d8f0",
   "metadata": {},
   "outputs": [],
   "source": [
    "with open('Data/page_links.csv', 'w') as f:\n",
    "    for page in pages:\n",
    "        f.write(page+'\\n')"
   ]
  },
  {
   "cell_type": "markdown",
   "id": "132499ca-8a4b-4f84-a045-de687a208d78",
   "metadata": {},
   "source": [
    "### HTML"
   ]
  },
  {
   "cell_type": "code",
   "execution_count": null,
   "id": "0dc4d334-28fb-4342-9ba3-506e987c9e12",
   "metadata": {},
   "outputs": [],
   "source": [
    "output_folder = 'Data/Content/HTML'\n",
    "knowledge_checks = []\n",
    "excercises = []\n",
    "\n",
    "for i, page in tqdm(enumerate(pages), total=len(pages)):\n",
    "\n",
    "    if 'check' in page:\n",
    "        knowledge_checks.append(page)\n",
    "        continue\n",
    "\n",
    "    if 'lab' in page:\n",
    "        excercises.append(page)\n",
    "        continue\n",
    "    \n",
    "    response = requests.get(page)\n",
    "    if response.status_code != 200:\n",
    "        print(f'Error when requesting')\n",
    "        break\n",
    "\n",
    "    file_path = os.path.join(output_folder, str(i+1) + '.html')\n",
    "    with open(file_path, 'w') as f:\n",
    "        f.write(str(response.content))"
   ]
  },
  {
   "cell_type": "code",
   "execution_count": null,
   "id": "86e73fcc-14e8-44c0-b273-61d6be4831fa",
   "metadata": {},
   "outputs": [],
   "source": [
    "with open('Data/Content/knowledge_checks.csv', 'w') as f:\n",
    "    for check in knowledge_checks:\n",
    "        f.write(check + '\\n')\n",
    "\n",
    "with open('Data/Content/excercises.csv', 'w') as f:\n",
    "    for exercise in excercises:\n",
    "        f.write(exercise + '\\n')"
   ]
  },
  {
   "cell_type": "markdown",
   "id": "247722e7-2ba2-458f-8c5b-89e100693775",
   "metadata": {},
   "source": [
    "### Chapters"
   ]
  },
  {
   "cell_type": "code",
   "execution_count": null,
   "id": "c33046b0-9baa-40b2-b230-d6d23dde6656",
   "metadata": {},
   "outputs": [],
   "source": [
    "input_folder = 'Data/Content/HTML'\n",
    "output_folder = 'Data/Content/Chapters'\n",
    "\n",
    "chapter_count = 1\n",
    "\n",
    "html_pages = sorted(os.listdir(input_folder))\n",
    "html_pages = sorted(html_pages, key=lambda x: int(x.split('.')[0]))\n",
    "\n",
    "for i, page in enumerate(html_pages):\n",
    "    \n",
    "    module = pages[i]\n",
    "    module = module.split('/')[-2]\n",
    "\n",
    "    html_path = os.path.join(input_folder, page)\n",
    "    with open(html_path) as f:\n",
    "        soup = BeautifulSoup(f, 'html.parser')\n",
    "        inner_section = soup.find(id=\"unit-inner-section\")\n",
    "        \n",
    "    items = []\n",
    "    for item in inner_section:\n",
    "        if item.name != None:\n",
    "            if item.name != 'div':\n",
    "                items.append(item)\n",
    "            \n",
    "    content = []\n",
    "    for item in items:\n",
    "        if 'h' in item.name:\n",
    "            if content:\n",
    "\n",
    "                file_path = os.path.join(output_folder, str(chapter_count) + '.txt')\n",
    "                with open(file_path, 'w', encoding='utf-8') as f:\n",
    "                    f.write(module)\n",
    "                    f.write('\\n')\n",
    "                    for element in content:\n",
    "                        decoded_element = codecs.decode(element, 'unicode_escape')\n",
    "                        f.write(decoded_element)\n",
    "                        f.write('\\n')\n",
    "\n",
    "                chapter_count += 1\n",
    "                content = []\n",
    "\n",
    "        content.append(item.text) \n",
    "\n",
    "    file_path = os.path.join(output_folder, str(chapter_count) + '.txt')\n",
    "    with open(file_path, 'w', encoding='utf-8') as f:\n",
    "        f.write(module)\n",
    "        f.write('\\n')\n",
    "        for element in content:\n",
    "            decoded_element = codecs.decode(element, 'unicode_escape')\n",
    "            f.write(decoded_element)\n",
    "            f.write('\\n')\n",
    "    \n",
    "    chapter_count += 1"
   ]
  }
 ],
 "metadata": {
  "kernelspec": {
   "display_name": "Python 3 (ipykernel)",
   "language": "python",
   "name": "python3"
  },
  "language_info": {
   "codemirror_mode": {
    "name": "ipython",
    "version": 3
   },
   "file_extension": ".py",
   "mimetype": "text/x-python",
   "name": "python",
   "nbconvert_exporter": "python",
   "pygments_lexer": "ipython3",
   "version": "3.9.0"
  }
 },
 "nbformat": 4,
 "nbformat_minor": 5
}
