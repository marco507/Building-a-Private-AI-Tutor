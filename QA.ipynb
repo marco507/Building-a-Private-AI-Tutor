{
 "cells": [
  {
   "cell_type": "code",
   "execution_count": null,
   "id": "551bb277-8f54-4fcd-9a35-febee8a2937b",
   "metadata": {},
   "outputs": [],
   "source": [
    "from langchain.document_loaders import DirectoryLoader\n",
    "from langchain.embeddings import OpenAIEmbeddings\n",
    "from langchain.vectorstores import FAISS\n",
    "from langchain.llms import OpenAI\n",
    "from langchain.chains.question_answering import load_qa_chain\n",
    "\n",
    "api_key = ''"
   ]
  },
  {
   "cell_type": "markdown",
   "id": "659caa1c-786e-4b01-81c3-b0b6c5ab0699",
   "metadata": {},
   "source": [
    "### Documents to Vector"
   ]
  },
  {
   "cell_type": "code",
   "execution_count": null,
   "id": "007310ad-b11d-4d31-8a2d-24fc1e926485",
   "metadata": {},
   "outputs": [],
   "source": [
    "# Load documents\n",
    "loader = DirectoryLoader(\"Data/Content/Chapters/\", glob=\"*.txt\", show_progress=True)\n",
    "documents = loader.load()\n",
    "\n",
    "# Create embeddings and store in the vector db\n",
    "db = FAISS.from_documents(documents, OpenAIEmbeddings(openai_api_key=api_key))\n",
    "\n",
    "# Init llm model and QA chain\n",
    "llm = OpenAI(temperature=0, openai_api_key=api_key)\n",
    "chain = load_qa_chain(llm, chain_type='stuff')"
   ]
  },
  {
   "cell_type": "markdown",
   "id": "ba8c506c-4555-48cd-b498-f52f887d6ad8",
   "metadata": {},
   "source": [
    "### QA"
   ]
  },
  {
   "cell_type": "code",
   "execution_count": null,
   "id": "d7feaa00-d3bc-447c-9781-37db6c184a61",
   "metadata": {},
   "outputs": [],
   "source": [
    "question = 'Wie kann ich in Power BI Berichte teilen?'"
   ]
  },
  {
   "cell_type": "code",
   "execution_count": null,
   "id": "1a1ebb41-5546-4fa9-9119-356bf38b4ea6",
   "metadata": {},
   "outputs": [],
   "source": [
    "query = question\n",
    "docs = db.similarity_search(query)\n",
    "chain.run(input_documents=docs, question=question)"
   ]
  }
 ],
 "metadata": {
  "kernelspec": {
   "display_name": "Python 3 (ipykernel)",
   "language": "python",
   "name": "python3"
  },
  "language_info": {
   "codemirror_mode": {
    "name": "ipython",
    "version": 3
   },
   "file_extension": ".py",
   "mimetype": "text/x-python",
   "name": "python",
   "nbconvert_exporter": "python",
   "pygments_lexer": "ipython3",
   "version": "3.9.0"
  }
 },
 "nbformat": 4,
 "nbformat_minor": 5
}
